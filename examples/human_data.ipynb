{
 "metadata": {
  "language_info": {
   "codemirror_mode": {
    "name": "ipython",
    "version": 3
   },
   "file_extension": ".py",
   "mimetype": "text/x-python",
   "name": "python",
   "nbconvert_exporter": "python",
   "pygments_lexer": "ipython3",
   "version": "3.7.6"
  },
  "orig_nbformat": 2,
  "kernelspec": {
   "name": "python376jvsc74a57bd03b6da5a6076d16b0a680620585ed0db8f283376460b9dbd6925dbd4d8b89dcd2",
   "display_name": "Python 3.7.6 64-bit ('base': conda)"
  },
  "metadata": {
   "interpreter": {
    "hash": "3b6da5a6076d16b0a680620585ed0db8f283376460b9dbd6925dbd4d8b89dcd2"
   }
  }
 },
 "nbformat": 4,
 "nbformat_minor": 2,
 "cells": [
  {
   "source": [
    "## Imports"
   ],
   "cell_type": "markdown",
   "metadata": {}
  },
  {
   "cell_type": "code",
   "execution_count": 1,
   "metadata": {},
   "outputs": [],
   "source": [
    "# libraries\n",
    "import os\n",
    "import sys\n",
    "import numpy as np \n",
    "from matplotlib import pyplot as plt\n",
    "# pcarpet functions\n",
    "pcarpet_path = os.path.join(os.path.dirname(os.getcwd()), 'pcarpet')\n",
    "sys.path.insert(0, pcarpet_path)\n",
    "import pcarpet"
   ]
  },
  {
   "source": [
    "## Set paths to example data"
   ],
   "cell_type": "markdown",
   "metadata": {}
  },
  {
   "cell_type": "code",
   "execution_count": 2,
   "metadata": {},
   "outputs": [],
   "source": [
    "example_folder = '/home/niko/MRI/pcarpet_example'\n",
    "func = os.path.join(example_folder, 'func_preproc.nii.gz')\n",
    "brain_mask = os.path.join(example_folder, 'brain_mask.nii.gz')\n",
    "cortex_mask = os.path.join(example_folder, 'cortex_mask.nii.gz')"
   ]
  },
  {
   "source": [
    "## Test class"
   ],
   "cell_type": "markdown",
   "metadata": {}
  },
  {
   "cell_type": "code",
   "execution_count": 3,
   "metadata": {},
   "outputs": [
    {
     "output_type": "stream",
     "name": "stdout",
     "text": [
      "fMRI data read: dimensions (96, 96, 35, 350)\nCortex mask read: dimensions (96, 96, 35)\n"
     ]
    }
   ],
   "source": [
    "example = pcarpet.Dataset(func, cortex_mask, TR=2., tSNR_thresh=15., ncomp=5)"
   ]
  },
  {
   "cell_type": "code",
   "execution_count": null,
   "metadata": {},
   "outputs": [],
   "source": []
  }
 ]
}