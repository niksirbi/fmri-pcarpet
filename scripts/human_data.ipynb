{
 "metadata": {
  "language_info": {
   "codemirror_mode": {
    "name": "ipython",
    "version": 3
   },
   "file_extension": ".py",
   "mimetype": "text/x-python",
   "name": "python",
   "nbconvert_exporter": "python",
   "pygments_lexer": "ipython3",
   "version": "3.7.6"
  },
  "orig_nbformat": 2,
  "kernelspec": {
   "name": "python3",
   "display_name": "Python 3.7.6 64-bit ('base': conda)"
  },
  "metadata": {
   "interpreter": {
    "hash": "3b6da5a6076d16b0a680620585ed0db8f283376460b9dbd6925dbd4d8b89dcd2"
   }
  },
  "interpreter": {
   "hash": "3b6da5a6076d16b0a680620585ed0db8f283376460b9dbd6925dbd4d8b89dcd2"
  }
 },
 "nbformat": 4,
 "nbformat_minor": 2,
 "cells": [
  {
   "cell_type": "markdown",
   "source": [
    "## Imports"
   ],
   "metadata": {}
  },
  {
   "cell_type": "code",
   "execution_count": 1,
   "source": [
    "# libraries\n",
    "import os\n",
    "import sys\n",
    "# pcarpet functions\n",
    "pcarpet_path = os.path.join(os.path.dirname(os.getcwd()), 'pcarpet')\n",
    "sys.path.insert(0, pcarpet_path)\n",
    "import pcarpet"
   ],
   "outputs": [],
   "metadata": {}
  },
  {
   "cell_type": "markdown",
   "source": [
    "## Set paths to example data"
   ],
   "metadata": {}
  },
  {
   "cell_type": "code",
   "execution_count": 2,
   "source": [
    "example_folder = '/home/niko/MRI/pcarpet_example'\n",
    "func = os.path.join(example_folder, 'func_preproc.nii.gz')\n",
    "brain_mask = os.path.join(example_folder, 'brain_mask.nii.gz')\n",
    "cortex_mask = os.path.join(example_folder, 'cortex_mask.nii.gz')\n",
    "output_folder = os.path.join(example_folder, 'outputs')"
   ],
   "outputs": [],
   "metadata": {}
  },
  {
   "cell_type": "markdown",
   "source": [
    "## Test class"
   ],
   "metadata": {}
  },
  {
   "cell_type": "code",
   "execution_count": 3,
   "source": [
    "example = pcarpet.Dataset(func, cortex_mask, output_folder)\n",
    "example.run_pcarpet()"
   ],
   "outputs": [
    {
     "output_type": "stream",
     "name": "stdout",
     "text": [
      "\n",
      "Initialized Dataset object:\n",
      "\tfMRI file: /home/niko/MRI/pcarpet_example/func_preproc.nii.gz\n",
      "\tMask file: /home/niko/MRI/pcarpet_example/cortex_mask.nii.gz\n",
      "\tOutput directory: /home/niko/MRI/pcarpet_example/outputs\n",
      "Reading data...\n",
      "\tfMRI data read: dimensions (96, 96, 35, 350)\n",
      "\tMask read: dimensions (96, 96, 35)\n",
      "fMRI data reshaped to voxels x time (322560, 350).\n",
      "46009 voxels retained after masking.\n",
      "Carpet matrix created with shape (46009, 350).\n",
      "Carpet normalized to zero-mean unit-variance.\n",
      "Carpet reordered.\n",
      "PCA fit to carpet and results saved.\n",
      "First 5 PCs correlated with carpet.\n",
      "Out of these, 4 sign-flipped.\n",
      "First 5 PCs correlated with fMRI data.\n",
      "TR of 2.085 seconds read from fMRI header\n",
      "Visual report generated and saved as First5_PCs_carpet_corr_report.\n"
     ]
    }
   ],
   "metadata": {}
  },
  {
   "cell_type": "code",
   "execution_count": null,
   "source": [],
   "outputs": [],
   "metadata": {}
  }
 ]
}