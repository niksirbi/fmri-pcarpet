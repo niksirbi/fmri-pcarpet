{
 "cells": [
  {
   "cell_type": "markdown",
   "metadata": {},
   "source": [
    "# Rationale\n",
    "A 'carpet plot' is a 2d representation of fMRI data (voxels x time), very similar to 'The Plot' described by Jonathan D Power ([Power 2017](https://www.sciencedirect.com/science/article/abs/pii/S1053811916303871?via%3Dihub)). \n",
    "This visual representation of fMRI data is suited for identifying wide-spread signal fluctutations \n",
    "([Aquino et al., 2020](https://www.sciencedirect.com/science/article/pii/S1053811920301014)), \n",
    "which often come from non-neural sources (e.g. head motion).\n",
    "\n",
    "That said, the carpet plot can also reveal 'real' neural activity, especially when the activity is slow and synchronous, as is the case for **anesthesia-induced burst-suppression** ([Sirmpiltze et al., 2021](https://www.biorxiv.org/content/10.1101/2021.10.15.464515)).\n",
    "The `pcarpet` package implements the analytical pipeline used in the [Sirmpiltze et al., 2021](https://www.biorxiv.org/content/10.1101/2021.10.15.464515) paper to identify instances of burst-suppression in anesthetized humans, nonhuman primates, and rats.\n",
    "\n",
    "## How it works\n",
    "The pipeline consists of the following steps:\n",
    "\n",
    "1. First tha necessary data is imported, consisting of a preprocessed fMRI scan (4d NIFTI file) and a mask (3d NIFTI file) defining a single region-of-interest.\n",
    "2. A carpet plot is generated from within the mask. To make wide-spread fluctuations more visually prominent, the voxel time-series (carpet rows) are normalized (z-score) and re-ordered according to their correlation with the mean time-series.\n",
    "3. Principal Component Analysis (PCA) is applied to the carpet matrix (using the `scikit-learn` implementation) and a given number (`ncomp`, default is 5) of first Principal Components - hereafter referred to as 'fPCs' - is extracted. The fPCs (e.g. PC1 - PC5) represent the temporal patterns of activity with the highest explained variance ratios.\n",
    "4. The fPCs are correlated with all voxel time-series within the carpet to get a distribution of Pearson's correlation coefficients (*r*) per fPC.\n",
    "5. The fPCs are also correlated with the entire fMRI scan, including areas outside the mask, to get the brain-wide spatial distribution of each fPC.\n",
    "6. A visual summary of results from steps 1-4 is plotted (example below).\n",
    "\n",
    "![report](../images/visual_report.png)\n",
    "\n",
    "The above image corresponds to an instance of burst-suppression in a female long-tailed macaque (*Macaca fascicularis*) anesthetized with isoflurane. The carpet plot (using a cortical mask) shows a wide-spread, slow, quasi-periodic signal fluctuation, which is well captured by PC1. PC1 is positively correlated with most cortical voxel timeseries, resulting in a heavily asymmetric distribution of correlation coefficients (*r*), while PCs 2-4 show symmetric *r* histograms centered on zero. This property can be quantified by taking the median of carpet-wide *r* values (bottom right). According to the terminology introduced in Sirmpilatze et al. 2021, PC1 is an 'asymmetric PC`. Under the right circumstances, the presence of an asymmetric PC in a cortical carpet plot can be an fMRI signature of burst-suppression, with the brain-wide distribution of the asymmetric PC representing a map of burst-suppression (see manuscript for details)."
   ]
  },
  {
   "cell_type": "markdown",
   "metadata": {},
   "source": [
    "# Installation\n",
    "\n",
    "## a. pip\n",
    "You can install the latest release from PyPI via\n",
    "\n",
    "```python\n",
    "pip install pcarpet\n",
    "```\n",
    "\n",
    "Pip will try to ensure that the following requirements are satisfied:\n",
    "\n",
    "1. Python 3.6 or higher\n",
    "2. [numpy](https://numpy.org/)\n",
    "3. [scipy](https://scipy.org/)\n",
    "4. [matplotlib](https://matplotlib.org/)\n",
    "5. [pandas](https://pandas.pydata.org/)\n",
    "6. [scikit-learn](https://scikit-learn.org/stable/)\n",
    "7. [nibabel](https://nipy.org/nibabel/)\n",
    "8. [ipython](https://ipython.org/)\n",
    "\n",
    "## b. Anaconda\n",
    "If you are having issues with resolving package dependencies, you can create a virtual environment using [Anaconda](https://www.anaconda.com/products/individual):\n",
    "\n",
    "1. Install an Anaconda distribution of python 3, choosing your operating system.\n",
    "2. Download the `environment.yml` file from this repository. You can clone the repository or copy-paste the file contents into a text document on your local computer.\n",
    "3. Open a terminal/anaconda prompt with conda for python 3 in the path.\n",
    "4. Navigate to the directory where the `environment.yml` is stored and run `conda env create -f environment.yml`\n",
    "5. Activate the environment with `conda activate pcarpet-env` (Note: you will always have to activate `pcarpet-env` before using `pcarpet`)"
   ]
  },
  {
   "cell_type": "markdown",
   "metadata": {},
   "source": []
  }
 ],
 "metadata": {
  "language_info": {
   "name": "python"
  },
  "orig_nbformat": 4
 },
 "nbformat": 4,
 "nbformat_minor": 2
}
